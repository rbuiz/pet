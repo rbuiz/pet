{
 "cells": [
  {
   "cell_type": "markdown",
   "metadata": {},
   "source": [
    "# Парсинг страниц сайта с пагинацией. "
   ]
  },
  {
   "cell_type": "markdown",
   "metadata": {},
   "source": [
    "## Часть 1. Получение текстовых файлов с кодом страниц."
   ]
  },
  {
   "cell_type": "markdown",
   "metadata": {},
   "source": [
    "### 1. Подключение библиотеки. "
   ]
  },
  {
   "cell_type": "code",
   "execution_count": 1,
   "metadata": {},
   "outputs": [],
   "source": [
    "import requests"
   ]
  },
  {
   "cell_type": "markdown",
   "metadata": {},
   "source": [
    "### 2. Извлечение HTML-кода страниц и его запись в файлы. "
   ]
  },
  {
   "cell_type": "code",
   "execution_count": 2,
   "metadata": {},
   "outputs": [
    {
     "name": "stdout",
     "output_type": "stream",
     "text": [
      "1 ok\n",
      "2 ok\n",
      "3 ok\n",
      "4 ok\n",
      "5 ok\n",
      "6 ok\n",
      "7 ok\n"
     ]
    }
   ],
   "source": [
    "for i in range(1, 8):\n",
    "    url = 'https://scrapingclub.com/exercise/list_basic/?page=' + str(i)\n",
    "    r = requests.get(url)\n",
    "    r.encoding = 'utf-8'\n",
    "    file = open('pag/soup_'+str(i)+'.txt', 'w', encoding='utf-8')\n",
    "    file.write(r.text)\n",
    "    file.close()\n",
    "    print(i, 'ok')\n",
    "    "
   ]
  },
  {
   "cell_type": "code",
   "execution_count": null,
   "metadata": {},
   "outputs": [],
   "source": []
  }
 ],
 "metadata": {
  "kernelspec": {
   "display_name": "Python 3",
   "language": "python",
   "name": "python3"
  },
  "language_info": {
   "codemirror_mode": {
    "name": "ipython",
    "version": 3
   },
   "file_extension": ".py",
   "mimetype": "text/x-python",
   "name": "python",
   "nbconvert_exporter": "python",
   "pygments_lexer": "ipython3",
   "version": "3.8.5"
  }
 },
 "nbformat": 4,
 "nbformat_minor": 4
}
